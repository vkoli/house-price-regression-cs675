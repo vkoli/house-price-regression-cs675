{
 "cells": [
  {
   "cell_type": "code",
   "execution_count": 1,
   "id": "cedb9d66",
   "metadata": {},
   "outputs": [],
   "source": [
    "import pandas as pd\n",
    "import numpy as np\n",
    "import matplotlib.pyplot as plt\n",
    "import seaborn as sns\n",
    "plt.style.use('ggplot')\n",
    "\n",
    "from sklearn.preprocessing import OneHotEncoder\n",
    "\n",
    "train = pd.read_csv('train.csv')\n",
    "remove_num = ['GarageArea', 'TotalBsmtSF', 'GarageYrBlt', 'TotRmsAbvGrd']\n",
    "train = train.drop(remove_num,axis=1)\n",
    "remove_cat = ['Street', 'LandContour', 'Utilities', \n",
    "              'LandSlope', 'Condition1', 'Condition2', \n",
    "              'RoofMatl','BsmtCond', 'BsmtFinType2', \n",
    "              'Heating', 'GarageCond', 'GarageQual', 'Functional'] \n",
    "train = train.drop(remove_cat, axis=1)"
   ]
  },
  {
   "cell_type": "code",
   "execution_count": 2,
   "id": "61e4214a",
   "metadata": {},
   "outputs": [],
   "source": [
    "from sklearn.preprocessing import OneHotEncoder\n",
    "\n",
    "ohe = OneHotEncoder(sparse=False,drop='first')\n",
    "data_obj = ohe.fit_transform(train[train.columns[train.dtypes=='object']])\n",
    "\n",
    "obj_df = pd.DataFrame(data_obj,columns=ohe.get_feature_names(train.columns[train.dtypes=='object']))\n",
    "cat_columns = obj_df.columns\n",
    "\n",
    "train = pd.concat([train[train.columns[train.dtypes!='object']], \n",
    "                         obj_df],\n",
    "                        axis=1)"
   ]
  },
  {
   "cell_type": "code",
   "execution_count": 3,
   "id": "a8cd2309",
   "metadata": {},
   "outputs": [
    {
     "name": "stdout",
     "output_type": "stream",
     "text": [
      "Index(['Exterior1st_AsphShn', 'Exterior1st_CBlock', 'Exterior1st_ImStucc',\n",
      "       'Exterior2nd_CBlock', 'Exterior2nd_Other', 'ExterCond_Po',\n",
      "       'HeatingQC_Po', 'Electrical_Mix', 'Electrical_nan', 'MiscFeature_TenC'],\n",
      "      dtype='object')\n"
     ]
    }
   ],
   "source": [
    "train=(train-train.min())/(train.max()-train.min())\n",
    "\n",
    "low_var = train.columns[train.var()<.001]\n",
    "print(low_var)\n",
    "train = train.drop(columns=low_var,axis=0)"
   ]
  },
  {
   "cell_type": "code",
   "execution_count": 4,
   "id": "20370531",
   "metadata": {},
   "outputs": [
    {
     "data": {
      "text/plain": [
       "['LotFrontage', 'MasVnrArea']"
      ]
     },
     "execution_count": 4,
     "metadata": {},
     "output_type": "execute_result"
    }
   ],
   "source": [
    "train.columns[train.isna().any()].tolist()"
   ]
  },
  {
   "cell_type": "code",
   "execution_count": 5,
   "id": "eace605b",
   "metadata": {},
   "outputs": [],
   "source": [
    "train = train.fillna(0)"
   ]
  },
  {
   "cell_type": "code",
   "execution_count": 6,
   "id": "35fae9c3",
   "metadata": {},
   "outputs": [
    {
     "data": {
      "image/png": "[encoded data removed]",
      "text/plain": [
       "<Figure size 432x288 with 1 Axes>"
      ]
     },
     "metadata": {},
     "output_type": "display_data"
    }
   ],
   "source": [
    "from sklearn.ensemble import RandomForestRegressor\n",
    "\n",
    "X = train.drop(['Id', 'SalePrice'], axis=1)\n",
    "y = train['SalePrice']\n",
    "\n",
    "model = RandomForestRegressor(random_state=1, max_depth=10)\n",
    "model.fit(X,y)\n",
    "\n",
    "features = X.columns\n",
    "importances = model.feature_importances_\n",
    "indices = np.argsort(importances)[-10:]  # top 10 features\n",
    "plt.title('Feature Importances')\n",
    "plt.barh(range(len(indices)), importances[indices], color='b', align='center')\n",
    "plt.yticks(range(len(indices)), [features[i] for i in indices])\n",
    "plt.xlabel('Relative Importance')\n",
    "plt.show()"
   ]
  },
  {
   "cell_type": "code",
   "execution_count": 7,
   "id": "64184b4f",
   "metadata": {},
   "outputs": [
    {
     "data": {
      "text/html": [
       "<div>\n",
       "<style scoped>\n",
       "    .dataframe tbody tr th:only-of-type {\n",
       "        vertical-align: middle;\n",
       "    }\n",
       "\n",
       "    .dataframe tbody tr th {\n",
       "        vertical-align: top;\n",
       "    }\n",
       "\n",
       "    .dataframe thead th {\n",
       "        text-align: right;\n",
       "    }\n",
       "</style>\n",
       "<table border=\"1\" class=\"dataframe\">\n",
       "  <thead>\n",
       "    <tr style=\"text-align: right;\">\n",
       "      <th></th>\n",
       "      <th>corr</th>\n",
       "    </tr>\n",
       "  </thead>\n",
       "  <tbody>\n",
       "    <tr>\n",
       "      <th>SalePrice</th>\n",
       "      <td>1.000000</td>\n",
       "    </tr>\n",
       "    <tr>\n",
       "      <th>OverallQual</th>\n",
       "      <td>0.790982</td>\n",
       "    </tr>\n",
       "    <tr>\n",
       "      <th>GrLivArea</th>\n",
       "      <td>0.708624</td>\n",
       "    </tr>\n",
       "    <tr>\n",
       "      <th>GarageCars</th>\n",
       "      <td>0.640409</td>\n",
       "    </tr>\n",
       "    <tr>\n",
       "      <th>1stFlrSF</th>\n",
       "      <td>0.605852</td>\n",
       "    </tr>\n",
       "    <tr>\n",
       "      <th>FullBath</th>\n",
       "      <td>0.560664</td>\n",
       "    </tr>\n",
       "    <tr>\n",
       "      <th>YearBuilt</th>\n",
       "      <td>0.522897</td>\n",
       "    </tr>\n",
       "    <tr>\n",
       "      <th>YearRemodAdd</th>\n",
       "      <td>0.507101</td>\n",
       "    </tr>\n",
       "    <tr>\n",
       "      <th>Foundation_PConc</th>\n",
       "      <td>0.497734</td>\n",
       "    </tr>\n",
       "    <tr>\n",
       "      <th>MasVnrArea</th>\n",
       "      <td>0.472614</td>\n",
       "    </tr>\n",
       "    <tr>\n",
       "      <th>Fireplaces</th>\n",
       "      <td>0.466929</td>\n",
       "    </tr>\n",
       "    <tr>\n",
       "      <th>ExterQual_Gd</th>\n",
       "      <td>0.452466</td>\n",
       "    </tr>\n",
       "    <tr>\n",
       "      <th>BsmtFinType1_GLQ</th>\n",
       "      <td>0.434597</td>\n",
       "    </tr>\n",
       "    <tr>\n",
       "      <th>Neighborhood_NridgHt</th>\n",
       "      <td>0.402149</td>\n",
       "    </tr>\n",
       "    <tr>\n",
       "      <th>BsmtFinSF1</th>\n",
       "      <td>0.386420</td>\n",
       "    </tr>\n",
       "  </tbody>\n",
       "</table>\n",
       "</div>"
      ],
      "text/plain": [
       "                          corr\n",
       "SalePrice             1.000000\n",
       "OverallQual           0.790982\n",
       "GrLivArea             0.708624\n",
       "GarageCars            0.640409\n",
       "1stFlrSF              0.605852\n",
       "FullBath              0.560664\n",
       "YearBuilt             0.522897\n",
       "YearRemodAdd          0.507101\n",
       "Foundation_PConc      0.497734\n",
       "MasVnrArea            0.472614\n",
       "Fireplaces            0.466929\n",
       "ExterQual_Gd          0.452466\n",
       "BsmtFinType1_GLQ      0.434597\n",
       "Neighborhood_NridgHt  0.402149\n",
       "BsmtFinSF1            0.386420"
      ]
     },
     "execution_count": 7,
     "metadata": {},
     "output_type": "execute_result"
    }
   ],
   "source": [
    "corr_vals = train.corr(method='pearson')\n",
    "sorted_corr_vals = corr_vals['SalePrice'].sort_values(ascending=False)\n",
    "temp = sorted_corr_vals.to_frame(name='corr')\n",
    "temp.head(15)"
   ]
  },
  {
   "cell_type": "code",
   "execution_count": 8,
   "id": "ff9fd774",
   "metadata": {},
   "outputs": [
    {
     "data": {
      "text/html": [
       "<div>\n",
       "<style scoped>\n",
       "    .dataframe tbody tr th:only-of-type {\n",
       "        vertical-align: middle;\n",
       "    }\n",
       "\n",
       "    .dataframe tbody tr th {\n",
       "        vertical-align: top;\n",
       "    }\n",
       "\n",
       "    .dataframe thead th {\n",
       "        text-align: right;\n",
       "    }\n",
       "</style>\n",
       "<table border=\"1\" class=\"dataframe\">\n",
       "  <thead>\n",
       "    <tr style=\"text-align: right;\">\n",
       "      <th></th>\n",
       "      <th>OverallQual</th>\n",
       "      <th>GarageCars</th>\n",
       "      <th>FullBath</th>\n",
       "      <th>YearBuilt</th>\n",
       "      <th>2ndFlrSF</th>\n",
       "      <th>MasVnrArea</th>\n",
       "      <th>LotArea</th>\n",
       "      <th>GrLivArea</th>\n",
       "      <th>Neighborhood_Blueste</th>\n",
       "      <th>Neighborhood_BrDale</th>\n",
       "      <th>...</th>\n",
       "      <th>Neighborhood_SWISU</th>\n",
       "      <th>Neighborhood_Sawyer</th>\n",
       "      <th>Neighborhood_SawyerW</th>\n",
       "      <th>Neighborhood_Somerst</th>\n",
       "      <th>Neighborhood_StoneBr</th>\n",
       "      <th>Neighborhood_Timber</th>\n",
       "      <th>Neighborhood_Veenker</th>\n",
       "      <th>ExterQual_Fa</th>\n",
       "      <th>ExterQual_Gd</th>\n",
       "      <th>ExterQual_TA</th>\n",
       "    </tr>\n",
       "  </thead>\n",
       "  <tbody>\n",
       "    <tr>\n",
       "      <th>0</th>\n",
       "      <td>0.666667</td>\n",
       "      <td>0.50</td>\n",
       "      <td>0.666667</td>\n",
       "      <td>0.949275</td>\n",
       "      <td>0.413559</td>\n",
       "      <td>0.122500</td>\n",
       "      <td>0.033420</td>\n",
       "      <td>0.259231</td>\n",
       "      <td>0.0</td>\n",
       "      <td>0.0</td>\n",
       "      <td>...</td>\n",
       "      <td>0.0</td>\n",
       "      <td>0.0</td>\n",
       "      <td>0.0</td>\n",
       "      <td>0.0</td>\n",
       "      <td>0.0</td>\n",
       "      <td>0.0</td>\n",
       "      <td>0.0</td>\n",
       "      <td>0.0</td>\n",
       "      <td>1.0</td>\n",
       "      <td>0.0</td>\n",
       "    </tr>\n",
       "    <tr>\n",
       "      <th>1</th>\n",
       "      <td>0.555556</td>\n",
       "      <td>0.50</td>\n",
       "      <td>0.666667</td>\n",
       "      <td>0.753623</td>\n",
       "      <td>0.000000</td>\n",
       "      <td>0.000000</td>\n",
       "      <td>0.038795</td>\n",
       "      <td>0.174830</td>\n",
       "      <td>0.0</td>\n",
       "      <td>0.0</td>\n",
       "      <td>...</td>\n",
       "      <td>0.0</td>\n",
       "      <td>0.0</td>\n",
       "      <td>0.0</td>\n",
       "      <td>0.0</td>\n",
       "      <td>0.0</td>\n",
       "      <td>0.0</td>\n",
       "      <td>1.0</td>\n",
       "      <td>0.0</td>\n",
       "      <td>0.0</td>\n",
       "      <td>1.0</td>\n",
       "    </tr>\n",
       "    <tr>\n",
       "      <th>2</th>\n",
       "      <td>0.666667</td>\n",
       "      <td>0.50</td>\n",
       "      <td>0.666667</td>\n",
       "      <td>0.934783</td>\n",
       "      <td>0.419370</td>\n",
       "      <td>0.101250</td>\n",
       "      <td>0.046507</td>\n",
       "      <td>0.273549</td>\n",
       "      <td>0.0</td>\n",
       "      <td>0.0</td>\n",
       "      <td>...</td>\n",
       "      <td>0.0</td>\n",
       "      <td>0.0</td>\n",
       "      <td>0.0</td>\n",
       "      <td>0.0</td>\n",
       "      <td>0.0</td>\n",
       "      <td>0.0</td>\n",
       "      <td>0.0</td>\n",
       "      <td>0.0</td>\n",
       "      <td>1.0</td>\n",
       "      <td>0.0</td>\n",
       "    </tr>\n",
       "    <tr>\n",
       "      <th>3</th>\n",
       "      <td>0.666667</td>\n",
       "      <td>0.75</td>\n",
       "      <td>0.333333</td>\n",
       "      <td>0.311594</td>\n",
       "      <td>0.366102</td>\n",
       "      <td>0.000000</td>\n",
       "      <td>0.038561</td>\n",
       "      <td>0.260550</td>\n",
       "      <td>0.0</td>\n",
       "      <td>0.0</td>\n",
       "      <td>...</td>\n",
       "      <td>0.0</td>\n",
       "      <td>0.0</td>\n",
       "      <td>0.0</td>\n",
       "      <td>0.0</td>\n",
       "      <td>0.0</td>\n",
       "      <td>0.0</td>\n",
       "      <td>0.0</td>\n",
       "      <td>0.0</td>\n",
       "      <td>0.0</td>\n",
       "      <td>1.0</td>\n",
       "    </tr>\n",
       "    <tr>\n",
       "      <th>4</th>\n",
       "      <td>0.777778</td>\n",
       "      <td>0.75</td>\n",
       "      <td>0.666667</td>\n",
       "      <td>0.927536</td>\n",
       "      <td>0.509927</td>\n",
       "      <td>0.218750</td>\n",
       "      <td>0.060576</td>\n",
       "      <td>0.351168</td>\n",
       "      <td>0.0</td>\n",
       "      <td>0.0</td>\n",
       "      <td>...</td>\n",
       "      <td>0.0</td>\n",
       "      <td>0.0</td>\n",
       "      <td>0.0</td>\n",
       "      <td>0.0</td>\n",
       "      <td>0.0</td>\n",
       "      <td>0.0</td>\n",
       "      <td>0.0</td>\n",
       "      <td>0.0</td>\n",
       "      <td>1.0</td>\n",
       "      <td>0.0</td>\n",
       "    </tr>\n",
       "    <tr>\n",
       "      <th>...</th>\n",
       "      <td>...</td>\n",
       "      <td>...</td>\n",
       "      <td>...</td>\n",
       "      <td>...</td>\n",
       "      <td>...</td>\n",
       "      <td>...</td>\n",
       "      <td>...</td>\n",
       "      <td>...</td>\n",
       "      <td>...</td>\n",
       "      <td>...</td>\n",
       "      <td>...</td>\n",
       "      <td>...</td>\n",
       "      <td>...</td>\n",
       "      <td>...</td>\n",
       "      <td>...</td>\n",
       "      <td>...</td>\n",
       "      <td>...</td>\n",
       "      <td>...</td>\n",
       "      <td>...</td>\n",
       "      <td>...</td>\n",
       "      <td>...</td>\n",
       "    </tr>\n",
       "    <tr>\n",
       "      <th>1455</th>\n",
       "      <td>0.555556</td>\n",
       "      <td>0.50</td>\n",
       "      <td>0.666667</td>\n",
       "      <td>0.920290</td>\n",
       "      <td>0.336077</td>\n",
       "      <td>0.000000</td>\n",
       "      <td>0.030929</td>\n",
       "      <td>0.247362</td>\n",
       "      <td>0.0</td>\n",
       "      <td>0.0</td>\n",
       "      <td>...</td>\n",
       "      <td>0.0</td>\n",
       "      <td>0.0</td>\n",
       "      <td>0.0</td>\n",
       "      <td>0.0</td>\n",
       "      <td>0.0</td>\n",
       "      <td>0.0</td>\n",
       "      <td>0.0</td>\n",
       "      <td>0.0</td>\n",
       "      <td>0.0</td>\n",
       "      <td>1.0</td>\n",
       "    </tr>\n",
       "    <tr>\n",
       "      <th>1456</th>\n",
       "      <td>0.555556</td>\n",
       "      <td>0.50</td>\n",
       "      <td>0.666667</td>\n",
       "      <td>0.768116</td>\n",
       "      <td>0.000000</td>\n",
       "      <td>0.074375</td>\n",
       "      <td>0.055505</td>\n",
       "      <td>0.327619</td>\n",
       "      <td>0.0</td>\n",
       "      <td>0.0</td>\n",
       "      <td>...</td>\n",
       "      <td>0.0</td>\n",
       "      <td>0.0</td>\n",
       "      <td>0.0</td>\n",
       "      <td>0.0</td>\n",
       "      <td>0.0</td>\n",
       "      <td>0.0</td>\n",
       "      <td>0.0</td>\n",
       "      <td>0.0</td>\n",
       "      <td>0.0</td>\n",
       "      <td>1.0</td>\n",
       "    </tr>\n",
       "    <tr>\n",
       "      <th>1457</th>\n",
       "      <td>0.666667</td>\n",
       "      <td>0.25</td>\n",
       "      <td>0.666667</td>\n",
       "      <td>0.500000</td>\n",
       "      <td>0.557869</td>\n",
       "      <td>0.000000</td>\n",
       "      <td>0.036187</td>\n",
       "      <td>0.377920</td>\n",
       "      <td>0.0</td>\n",
       "      <td>0.0</td>\n",
       "      <td>...</td>\n",
       "      <td>0.0</td>\n",
       "      <td>0.0</td>\n",
       "      <td>0.0</td>\n",
       "      <td>0.0</td>\n",
       "      <td>0.0</td>\n",
       "      <td>0.0</td>\n",
       "      <td>0.0</td>\n",
       "      <td>0.0</td>\n",
       "      <td>0.0</td>\n",
       "      <td>0.0</td>\n",
       "    </tr>\n",
       "    <tr>\n",
       "      <th>1458</th>\n",
       "      <td>0.444444</td>\n",
       "      <td>0.25</td>\n",
       "      <td>0.333333</td>\n",
       "      <td>0.565217</td>\n",
       "      <td>0.000000</td>\n",
       "      <td>0.000000</td>\n",
       "      <td>0.039342</td>\n",
       "      <td>0.140166</td>\n",
       "      <td>0.0</td>\n",
       "      <td>0.0</td>\n",
       "      <td>...</td>\n",
       "      <td>0.0</td>\n",
       "      <td>0.0</td>\n",
       "      <td>0.0</td>\n",
       "      <td>0.0</td>\n",
       "      <td>0.0</td>\n",
       "      <td>0.0</td>\n",
       "      <td>0.0</td>\n",
       "      <td>0.0</td>\n",
       "      <td>0.0</td>\n",
       "      <td>1.0</td>\n",
       "    </tr>\n",
       "    <tr>\n",
       "      <th>1459</th>\n",
       "      <td>0.444444</td>\n",
       "      <td>0.25</td>\n",
       "      <td>0.333333</td>\n",
       "      <td>0.673913</td>\n",
       "      <td>0.000000</td>\n",
       "      <td>0.000000</td>\n",
       "      <td>0.040370</td>\n",
       "      <td>0.173700</td>\n",
       "      <td>0.0</td>\n",
       "      <td>0.0</td>\n",
       "      <td>...</td>\n",
       "      <td>0.0</td>\n",
       "      <td>0.0</td>\n",
       "      <td>0.0</td>\n",
       "      <td>0.0</td>\n",
       "      <td>0.0</td>\n",
       "      <td>0.0</td>\n",
       "      <td>0.0</td>\n",
       "      <td>0.0</td>\n",
       "      <td>1.0</td>\n",
       "      <td>0.0</td>\n",
       "    </tr>\n",
       "  </tbody>\n",
       "</table>\n",
       "<p>1460 rows × 35 columns</p>\n",
       "</div>"
      ],
      "text/plain": [
       "      OverallQual  GarageCars  FullBath  YearBuilt  2ndFlrSF  MasVnrArea  \\\n",
       "0        0.666667        0.50  0.666667   0.949275  0.413559    0.122500   \n",
       "1        0.555556        0.50  0.666667   0.753623  0.000000    0.000000   \n",
       "2        0.666667        0.50  0.666667   0.934783  0.419370    0.101250   \n",
       "3        0.666667        0.75  0.333333   0.311594  0.366102    0.000000   \n",
       "4        0.777778        0.75  0.666667   0.927536  0.509927    0.218750   \n",
       "...           ...         ...       ...        ...       ...         ...   \n",
       "1455     0.555556        0.50  0.666667   0.920290  0.336077    0.000000   \n",
       "1456     0.555556        0.50  0.666667   0.768116  0.000000    0.074375   \n",
       "1457     0.666667        0.25  0.666667   0.500000  0.557869    0.000000   \n",
       "1458     0.444444        0.25  0.333333   0.565217  0.000000    0.000000   \n",
       "1459     0.444444        0.25  0.333333   0.673913  0.000000    0.000000   \n",
       "\n",
       "       LotArea  GrLivArea  Neighborhood_Blueste  Neighborhood_BrDale  ...  \\\n",
       "0     0.033420   0.259231                   0.0                  0.0  ...   \n",
       "1     0.038795   0.174830                   0.0                  0.0  ...   \n",
       "2     0.046507   0.273549                   0.0                  0.0  ...   \n",
       "3     0.038561   0.260550                   0.0                  0.0  ...   \n",
       "4     0.060576   0.351168                   0.0                  0.0  ...   \n",
       "...        ...        ...                   ...                  ...  ...   \n",
       "1455  0.030929   0.247362                   0.0                  0.0  ...   \n",
       "1456  0.055505   0.327619                   0.0                  0.0  ...   \n",
       "1457  0.036187   0.377920                   0.0                  0.0  ...   \n",
       "1458  0.039342   0.140166                   0.0                  0.0  ...   \n",
       "1459  0.040370   0.173700                   0.0                  0.0  ...   \n",
       "\n",
       "      Neighborhood_SWISU  Neighborhood_Sawyer  Neighborhood_SawyerW  \\\n",
       "0                    0.0                  0.0                   0.0   \n",
       "1                    0.0                  0.0                   0.0   \n",
       "2                    0.0                  0.0                   0.0   \n",
       "3                    0.0                  0.0                   0.0   \n",
       "4                    0.0                  0.0                   0.0   \n",
       "...                  ...                  ...                   ...   \n",
       "1455                 0.0                  0.0                   0.0   \n",
       "1456                 0.0                  0.0                   0.0   \n",
       "1457                 0.0                  0.0                   0.0   \n",
       "1458                 0.0                  0.0                   0.0   \n",
       "1459                 0.0                  0.0                   0.0   \n",
       "\n",
       "      Neighborhood_Somerst  Neighborhood_StoneBr  Neighborhood_Timber  \\\n",
       "0                      0.0                   0.0                  0.0   \n",
       "1                      0.0                   0.0                  0.0   \n",
       "2                      0.0                   0.0                  0.0   \n",
       "3                      0.0                   0.0                  0.0   \n",
       "4                      0.0                   0.0                  0.0   \n",
       "...                    ...                   ...                  ...   \n",
       "1455                   0.0                   0.0                  0.0   \n",
       "1456                   0.0                   0.0                  0.0   \n",
       "1457                   0.0                   0.0                  0.0   \n",
       "1458                   0.0                   0.0                  0.0   \n",
       "1459                   0.0                   0.0                  0.0   \n",
       "\n",
       "      Neighborhood_Veenker  ExterQual_Fa  ExterQual_Gd  ExterQual_TA  \n",
       "0                      0.0           0.0           1.0           0.0  \n",
       "1                      1.0           0.0           0.0           1.0  \n",
       "2                      0.0           0.0           1.0           0.0  \n",
       "3                      0.0           0.0           0.0           1.0  \n",
       "4                      0.0           0.0           1.0           0.0  \n",
       "...                    ...           ...           ...           ...  \n",
       "1455                   0.0           0.0           0.0           1.0  \n",
       "1456                   0.0           0.0           0.0           1.0  \n",
       "1457                   0.0           0.0           0.0           0.0  \n",
       "1458                   0.0           0.0           0.0           1.0  \n",
       "1459                   0.0           0.0           1.0           0.0  \n",
       "\n",
       "[1460 rows x 35 columns]"
      ]
     },
     "execution_count": 8,
     "metadata": {},
     "output_type": "execute_result"
    }
   ],
   "source": [
    "Neighborhood = [col for col in train.columns if 'Neighborhood' in col]\n",
    "ExterQual = [col for col in train.columns if 'ExterQual' in col]\n",
    "\n",
    "features = ['OverallQual', 'GarageCars', 'FullBath', \n",
    "            'YearBuilt', '2ndFlrSF', 'MasVnrArea', \n",
    "            'LotArea', 'GrLivArea'] + Neighborhood + ExterQual\n",
    "\n",
    "train[features]"
   ]
  },
  {
   "cell_type": "code",
   "execution_count": 9,
   "id": "f6357102",
   "metadata": {},
   "outputs": [],
   "source": [
    "data = pd.read_csv('train.csv')\n",
    "train['RelAge'] = data['YrSold'] - data['YearRemodAdd'] + data['MoSold']/12\n",
    "train['TotRmsAbvGrdBath'] = data[['TotRmsAbvGrd', 'FullBath', 'HalfBath']].sum(axis=1)\n",
    "train['PorchDeckRank'] = data[['WoodDeckSF', 'OpenPorchSF', 'EnclosedPorch', '3SsnPorch', 'ScreenPorch']].sum(axis=1)\n",
    "\n",
    "new_features = ['RelAge','TotRmsAbvGrdBath','PorchDeckRank']"
   ]
  },
  {
   "cell_type": "code",
   "execution_count": 10,
   "id": "df0d30ea",
   "metadata": {},
   "outputs": [
    {
     "data": {
      "text/plain": [
       "array([0.3292513 , 0.41212397, 0.47227141, 0.52438421, 0.57037526,\n",
       "       0.6088599 , 0.64651598, 0.68077706, 0.711955  , 0.74038864,\n",
       "       0.76820735, 0.79403366, 0.81672127, 0.83854254, 0.85738662,\n",
       "       0.87482318, 0.89002873, 0.9035582 , 0.91608344, 0.92785764,\n",
       "       0.93878284, 0.94916312, 0.9582522 , 0.96569067, 0.97215939,\n",
       "       0.97749902, 0.98256594, 0.98685698, 0.99067368, 0.99405505,\n",
       "       0.99660922, 0.99796609, 0.99886258, 0.99973992, 1.        ])"
      ]
     },
     "execution_count": 10,
     "metadata": {},
     "output_type": "execute_result"
    }
   ],
   "source": [
    "from sklearn.decomposition import PCA\n",
    "\n",
    "pca = PCA()\n",
    "x_pca = pca.fit_transform(train[features])\n",
    "x_pca = pd.DataFrame(x_pca)\n",
    "\n",
    "explained_variance = pca.explained_variance_ratio_\n",
    "explained_variance\n",
    "np.cumsum(pca.explained_variance_ratio_)"
   ]
  },
  {
   "cell_type": "code",
   "execution_count": 11,
   "id": "6dcc8f8f",
   "metadata": {},
   "outputs": [],
   "source": [
    "train['PCA1'] = x_pca[[0]]\n",
    "train['PCA2'] = x_pca[[1]]"
   ]
  },
  {
   "cell_type": "code",
   "execution_count": 12,
   "id": "2f9d45a9",
   "metadata": {},
   "outputs": [],
   "source": [
    "new_features += ['PCA1','PCA2']\n",
    "train[new_features]=(train[new_features]-\n",
    "                     train[new_features].min()\n",
    "                    )/(train[new_features].max()-\n",
    "                       train[new_features].min())\n",
    "\n",
    "features += new_features"
   ]
  },
  {
   "cell_type": "markdown",
   "id": "d4724832",
   "metadata": {},
   "source": [
    "# KNN Model + Visualizations"
   ]
  },
  {
   "cell_type": "code",
   "execution_count": 13,
   "id": "bd6b1c71",
   "metadata": {
    "scrolled": true
   },
   "outputs": [],
   "source": [
    "from sklearn import neighbors\n",
    "from sklearn.neighbors import KNeighborsRegressor\n",
    "from sklearn.model_selection import train_test_split \n",
    "\n",
    "X = train[features]\n",
    "y = train['SalePrice']\n",
    "\n",
    "X_train, X_test, y_train, y_test = train_test_split(X, y, test_size = 0.2, random_state = 1)"
   ]
  },
  {
   "cell_type": "code",
   "execution_count": 14,
   "id": "591a0277",
   "metadata": {
    "scrolled": true
   },
   "outputs": [
    {
     "data": {
      "text/plain": [
       "KNeighborsRegressor()"
      ]
     },
     "execution_count": 14,
     "metadata": {},
     "output_type": "execute_result"
    }
   ],
   "source": [
    "knn = KNeighborsRegressor(n_neighbors = 5)\n",
    "knn.fit(X_train, y_train)"
   ]
  },
  {
   "cell_type": "code",
   "execution_count": 15,
   "id": "94c6ad30",
   "metadata": {},
   "outputs": [
    {
     "name": "stdout",
     "output_type": "stream",
     "text": [
      "Mean Absolute Error: 0.03629831853642854\n",
      "Mean Squared Error: 0.0041264087683966525\n",
      "Root Mean Squared Error: 0.06423712920419664\n",
      "R-squared Error: 0.6999801545387254\n"
     ]
    }
   ],
   "source": [
    "y_pred = knn.predict(X_test)\n",
    "\n",
    "from sklearn import metrics\n",
    "print('Mean Absolute Error:', metrics.mean_absolute_error(y_test, y_pred))  \n",
    "print('Mean Squared Error:', metrics.mean_squared_error(y_test, y_pred))  \n",
    "print('Root Mean Squared Error:', np.sqrt(metrics.mean_squared_error(y_test, y_pred)))\n",
    "print('R-squared Error:', metrics.r2_score(y_test, y_pred))"
   ]
  },
  {
   "cell_type": "code",
   "execution_count": 16,
   "id": "1ea4594c",
   "metadata": {},
   "outputs": [
    {
     "data": {
      "text/plain": [
       "0.6999801545387254"
      ]
     },
     "execution_count": 16,
     "metadata": {},
     "output_type": "execute_result"
    }
   ],
   "source": [
    "accuracy = knn.score(X_test, y_test)\n",
    "accuracy"
   ]
  },
  {
   "cell_type": "code",
   "execution_count": 35,
   "id": "4248f0c9",
   "metadata": {},
   "outputs": [
    {
     "data": {
      "image/png": "[encoded data removed]",
      "text/plain": [
       "<Figure size 432x288 with 1 Axes>"
      ]
     },
     "metadata": {
      "needs_background": "light"
     },
     "output_type": "display_data"
    }
   ],
   "source": [
    "neighbors = np.arange(1,11)\n",
    "train_accuracy = np.empty(len(neighbors))\n",
    "test_accuracy = np.empty(len(neighbors))\n",
    "\n",
    "for i,k in enumerate(neighbors):\n",
    "    knn = KNeighborsRegressor(n_neighbors = k)\n",
    "    knn.fit(X_train, y_train)\n",
    "    train_accuracy[i] = knn.score(X_train, y_train)\n",
    "    test_accuracy[i] = knn.score(X_test, y_test)\n",
    "\n",
    "plt.title('KNN Neighbor Number')\n",
    "plt.plot(neighbors, test_accuracy, label = 'Testing Accuracy')\n",
    "plt.plot(neighbors, train_accuracy, label = 'Training accuracy')\n",
    "plt.legend()\n",
    "plt.xlabel('Number of Neighbors')\n",
    "plt.ylabel('Accuracy')\n",
    "plt.show()"
   ]
  },
  {
   "cell_type": "markdown",
   "id": "e6c6e8a4",
   "metadata": {},
   "source": [
    "### Evaluating different parameters"
   ]
  },
  {
   "cell_type": "code",
   "execution_count": 44,
   "id": "ec8afc3e",
   "metadata": {
    "scrolled": false
   },
   "outputs": [
    {
     "name": "stdout",
     "output_type": "stream",
     "text": [
      "Mean Absolute Error: 0.035549657296456164\n",
      "Mean Squared Error: 0.003973429329800347\n",
      "Root Mean Squared Error: 0.06303514360894522\n",
      "R-squared Error: 0.7111028692532566\n"
     ]
    }
   ],
   "source": [
    "knn = KNeighborsRegressor(n_neighbors = 4)\n",
    "knn.fit(X_train, y_train)\n",
    "y_pred = knn.predict(X_test)\n",
    "\n",
    "print('Mean Absolute Error:', metrics.mean_absolute_error(y_test, y_pred))  \n",
    "print('Mean Squared Error:', metrics.mean_squared_error(y_test, y_pred))  \n",
    "print('Root Mean Squared Error:', np.sqrt(metrics.mean_squared_error(y_test, y_pred)))\n",
    "print('R-squared Error:', metrics.r2_score(y_test, y_pred))"
   ]
  },
  {
   "cell_type": "code",
   "execution_count": 52,
   "id": "cbbdb15f",
   "metadata": {},
   "outputs": [
    {
     "data": {
      "image/png": "[encoded data removed]",
      "text/plain": [
       "<Figure size 432x288 with 1 Axes>"
      ]
     },
     "metadata": {
      "needs_background": "light"
     },
     "output_type": "display_data"
    }
   ],
   "source": [
    "weights_opt = ['uniform', 'distance']\n",
    "train_accuracy = np.empty(len(weights))\n",
    "test_accuracy = np.empty(len(weights))\n",
    "\n",
    "for i in range(len(weights)):\n",
    "    knn = KNeighborsRegressor(n_neighbors = 4, weights = weights_opt[i])\n",
    "    knn.fit(X_train, y_train)\n",
    "    train_accuracy[i] = knn.score(X_train, y_train)\n",
    "    test_accuracy[i] = knn.score(X_test, y_test)\n",
    "\n",
    "plt.title('KNN Weights')\n",
    "plt.plot(weights_opt, test_accuracy, label = 'Testing Accuracy')\n",
    "plt.plot(weights_opt, train_accuracy, label = 'Training accuracy')\n",
    "plt.legend()\n",
    "plt.xlabel('Weights')\n",
    "plt.ylabel('Accuracy')\n",
    "plt.show()"
   ]
  },
  {
   "cell_type": "code",
   "execution_count": 53,
   "id": "b5efed59",
   "metadata": {},
   "outputs": [
    {
     "data": {
      "image/png": "[encoded data removed]",
      "text/plain": [
       "<Figure size 432x288 with 1 Axes>"
      ]
     },
     "metadata": {
      "needs_background": "light"
     },
     "output_type": "display_data"
    }
   ],
   "source": [
    "alg = ['auto', 'ball_tree', 'kd_tree', 'brute']\n",
    "train_accuracy = np.empty(len(alg))\n",
    "test_accuracy = np.empty(len(alg))\n",
    "\n",
    "for i in range(len(alg)):\n",
    "    knn = KNeighborsRegressor(n_neighbors = 4, weights = 'distance', algorithm = alg[i])\n",
    "    knn.fit(X_train, y_train)\n",
    "    train_accuracy[i] = knn.score(X_train, y_train)\n",
    "    test_accuracy[i] = knn.score(X_test, y_test)\n",
    "\n",
    "plt.title('KNN Algorithm')\n",
    "plt.plot(alg, test_accuracy, label = 'Testing Accuracy')\n",
    "plt.plot(alg, train_accuracy, label = 'Training accuracy')\n",
    "plt.legend()\n",
    "plt.xlabel('Weights')\n",
    "plt.ylabel('Accuracy')\n",
    "plt.show()"
   ]
  },
  {
   "cell_type": "code",
   "execution_count": 79,
   "id": "36cca178",
   "metadata": {},
   "outputs": [
    {
     "data": {
      "image/png": "[encoded data removed]",
      "text/plain": [
       "<Figure size 432x288 with 1 Axes>"
      ]
     },
     "metadata": {
      "needs_background": "light"
     },
     "output_type": "display_data"
    }
   ],
   "source": [
    "leaf = np.arange(1,100)\n",
    "train_accuracy = np.empty(len(leaf))\n",
    "test_accuracy = np.empty(len(leaf))\n",
    "\n",
    "for i,k in enumerate(leaf):\n",
    "    knn = KNeighborsRegressor(n_neighbors = 4, weights = 'distance', algorithm = 'ball_tree', leaf_size = k)\n",
    "    knn.fit(X_train, y_train)\n",
    "    train_accuracy[i] = knn.score(X_train, y_train)\n",
    "    test_accuracy[i] = knn.score(X_test, y_test)\n",
    "\n",
    "plt.title('KNN Ball Tree Leaf Size')\n",
    "plt.plot(leaf, test_accuracy, label = 'Testing Accuracy')\n",
    "plt.plot(leaf, train_accuracy, label = 'Training accuracy')\n",
    "plt.legend()\n",
    "plt.xlabel('Leaf Size')\n",
    "plt.ylabel('Accuracy')\n",
    "plt.show()"
   ]
  },
  {
   "cell_type": "code",
   "execution_count": 80,
   "id": "5b670c1d",
   "metadata": {},
   "outputs": [
    {
     "data": {
      "image/png": "[encoded data removed]",
      "text/plain": [
       "<Figure size 432x288 with 1 Axes>"
      ]
     },
     "metadata": {
      "needs_background": "light"
     },
     "output_type": "display_data"
    }
   ],
   "source": [
    "leaf = np.arange(1,100)\n",
    "train_accuracy = np.empty(len(leaf))\n",
    "test_accuracy = np.empty(len(leaf))\n",
    "\n",
    "for i,k in enumerate(leaf):\n",
    "    knn = KNeighborsRegressor(n_neighbors = 4, weights = 'distance', algorithm = 'kd_tree', leaf_size = k)\n",
    "    knn.fit(X_train, y_train)\n",
    "    train_accuracy[i] = knn.score(X_train, y_train)\n",
    "    test_accuracy[i] = knn.score(X_test, y_test)\n",
    "\n",
    "plt.title('KNN KD Tree Leaf Size')\n",
    "plt.plot(leaf, test_accuracy, label = 'Testing Accuracy')\n",
    "plt.plot(leaf, train_accuracy, label = 'Training accuracy')\n",
    "plt.legend()\n",
    "plt.xlabel('Leaf Size')\n",
    "plt.ylabel('Accuracy')\n",
    "plt.show()"
   ]
  },
  {
   "cell_type": "code",
   "execution_count": 83,
   "id": "7d245a5c",
   "metadata": {},
   "outputs": [
    {
     "data": {
      "image/png": "[encoded data removed]",
      "text/plain": [
       "<Figure size 432x288 with 1 Axes>"
      ]
     },
     "metadata": {
      "needs_background": "light"
     },
     "output_type": "display_data"
    }
   ],
   "source": [
    "p = np.arange(1,5)\n",
    "train_accuracy = np.empty(len(p))\n",
    "test_accuracy = np.empty(len(p))\n",
    "\n",
    "for i,k in enumerate(p):\n",
    "    knn = KNeighborsRegressor(n_neighbors = 4, weights = 'distance', algorithm = 'auto', p = k)\n",
    "    knn.fit(X_train, y_train)\n",
    "    train_accuracy[i] = knn.score(X_train, y_train)\n",
    "    test_accuracy[i] = knn.score(X_test, y_test)\n",
    "\n",
    "plt.title('KNN Power Parameter')\n",
    "plt.plot(p, test_accuracy, label = 'Testing Accuracy')\n",
    "plt.plot(p, train_accuracy, label = 'Training accuracy')\n",
    "plt.legend()\n",
    "plt.xlabel('Power Parameter')\n",
    "plt.ylabel('Accuracy')\n",
    "plt.show()"
   ]
  },
  {
   "cell_type": "code",
   "execution_count": 84,
   "id": "86f3f953",
   "metadata": {},
   "outputs": [
    {
     "name": "stdout",
     "output_type": "stream",
     "text": [
      "Mean Absolute Error: 0.03316057122741931\n",
      "Mean Squared Error: 0.003344340900037173\n",
      "Root Mean Squared Error: 0.05783027667266666\n",
      "R-squared Error: 0.7568421607467553\n"
     ]
    }
   ],
   "source": [
    "knn = KNeighborsRegressor(n_neighbors = 4, weights = 'distance', algorithm = 'auto', p = 1)\n",
    "knn.fit(X_train, y_train)\n",
    "y_pred = knn.predict(X_test)\n",
    "\n",
    "print('Mean Absolute Error:', metrics.mean_absolute_error(y_test, y_pred))  \n",
    "print('Mean Squared Error:', metrics.mean_squared_error(y_test, y_pred))  \n",
    "print('Root Mean Squared Error:', np.sqrt(metrics.mean_squared_error(y_test, y_pred)))\n",
    "print('R-squared Error:', metrics.r2_score(y_test, y_pred))"
   ]
  },
  {
   "cell_type": "markdown",
   "id": "6d990ac3",
   "metadata": {},
   "source": [
    "# Overall Accuracy of KNN Model After Testing"
   ]
  },
  {
   "cell_type": "code",
   "execution_count": 89,
   "id": "c1bcb472",
   "metadata": {},
   "outputs": [
    {
     "name": "stdout",
     "output_type": "stream",
     "text": [
      "Final Accuracy: 75.684%\n"
     ]
    }
   ],
   "source": [
    "knn = KNeighborsRegressor(n_neighbors = 4, weights = 'distance', algorithm = 'auto', p = 1)\n",
    "knn.fit(X_train, y_train)\n",
    "accuracy = knn.score(X_test, y_test)\n",
    "print('Final Accuracy:', str(format(accuracy*100, '.3f')) + '%')"
   ]
  }
 ],
 "metadata": {
  "kernelspec": {
   "display_name": "Python 3",
   "language": "python",
   "name": "python3"
  },
  "language_info": {
   "codemirror_mode": {
    "name": "ipython",
    "version": 3
   },
   "file_extension": ".py",
   "mimetype": "text/x-python",
   "name": "python",
   "nbconvert_exporter": "python",
   "pygments_lexer": "ipython3",
   "version": "3.8.8"
  }
 },
 "nbformat": 4,
 "nbformat_minor": 5
}
